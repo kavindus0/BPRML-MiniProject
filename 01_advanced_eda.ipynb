{
    "cells": [
        {
            "cell_type": "markdown",
            "metadata": {},
            "source": [
                "# Advanced Exploratory Data Analysis (EDA)\n",
                "\n",
                "This notebook demonstrates advanced EDA techniques for comprehensive data understanding and preparation for machine learning models.\n",
                "\n",
                "## Table of Contents\n",
                "1. [Library Imports](#library-imports)\n",
                "2. [Data Loading and Initial Exploration](#data-loading)\n",
                "3. [Data Quality Assessment](#data-quality)\n",
                "4. [Univariate Analysis](#univariate-analysis)\n",
                "5. [Bivariate Analysis](#bivariate-analysis)\n",
                "6. [Multivariate Analysis](#multivariate-analysis)\n",
                "7. [Feature Engineering Insights](#feature-engineering)\n",
                "8. [Statistical Testing](#statistical-testing)\n",
                "9. [Summary and Recommendations](#summary)"
            ]
        },
        {
            "cell_type": "markdown",
            "metadata": {},
            "source": [
                "## Library Imports"
            ]
        },
        {
            "cell_type": "code",
            "execution_count": 72,
            "metadata": {},
            "outputs": [
                {
                    "name": "stdout",
                    "output_type": "stream",
                    "text": [
                        "All necessary libraries have been imported successfully.\n"
                    ]
                }
            ],
            "source": [
                "import pandas as pd\n",
                "import numpy as np\n",
                "import warnings\n",
                "import os\n",
                "\n",
                "import matplotlib.pyplot as plt\n",
                "import seaborn as sns\n",
                "import plotly.express as px\n",
                "\n",
                "from sklearn.impute import SimpleImputer\n",
                "from sklearn.preprocessing import (\n",
                "    StandardScaler,\n",
                "    MinMaxScaler,\n",
                "    OneHotEncoder,\n",
                "    LabelEncoder,\n",
                "    OrdinalEncoder\n",
                ")\n",
                "from sklearn.compose import ColumnTransformer\n",
                "from sklearn.pipeline import Pipeline\n",
                "\n",
                "from sklearn.linear_model import LogisticRegression\n",
                "from sklearn.tree import DecisionTreeClassifier\n",
                "from sklearn.ensemble import RandomForestClassifier\n",
                "from xgboost import XGBClassifier\n",
                "from catboost import CatBoostClassifier\n",
                "\n",
                "from sklearn.metrics import (\n",
                "    accuracy_score,\n",
                "    precision_score,\n",
                "    recall_score,\n",
                "    f1_score,\n",
                "    confusion_matrix,\n",
                "    classification_report,\n",
                "    roc_auc_score,\n",
                "    precision_recall_curve,\n",
                "    auc\n",
                ")\n",
                "\n",
                "from sklearn.model_selection import (\n",
                "    train_test_split,\n",
                "    StratifiedKFold,\n",
                "    GridSearchCV,\n",
                "    RandomizedSearchCV\n",
                ")\n",
                "\n",
                "from scipy.stats import chi2_contingency, ttest_ind\n",
                "from imblearn.over_sampling import SMOTE\n",
                "import joblib\n",
                "\n",
                "# Configuration\n",
                "sns.set_style('whitegrid')\n",
                "warnings.filterwarnings('ignore', category=FutureWarning)\n",
                "pd.set_option('display.max_columns', None)\n",
                "\n",
                "print(\"All necessary libraries have been imported successfully.\")"
            ]
        },
        {
            "cell_type": "markdown",
            "metadata": {},
            "source": [
                "## Data Loading and Initial Exploration"
            ]
        },
        {
            "cell_type": "code",
            "execution_count": 73,
            "metadata": {},
            "outputs": [
                {
                    "name": "stdout",
                    "output_type": "stream",
                    "text": [
                        "Dataset shape: (7043, 21)\n",
                        "\n",
                        "Column names: ['customerID', 'gender', 'SeniorCitizen', 'Partner', 'Dependents', 'tenure', 'PhoneService', 'MultipleLines', 'InternetService', 'OnlineSecurity', 'OnlineBackup', 'DeviceProtection', 'TechSupport', 'StreamingTV', 'StreamingMovies', 'Contract', 'PaperlessBilling', 'PaymentMethod', 'MonthlyCharges', 'TotalCharges', 'Churn']\n"
                    ]
                },
                {
                    "data": {
                        "text/html": [
                            "<div>\n",
                            "<style scoped>\n",
                            "    .dataframe tbody tr th:only-of-type {\n",
                            "        vertical-align: middle;\n",
                            "    }\n",
                            "\n",
                            "    .dataframe tbody tr th {\n",
                            "        vertical-align: top;\n",
                            "    }\n",
                            "\n",
                            "    .dataframe thead th {\n",
                            "        text-align: right;\n",
                            "    }\n",
                            "</style>\n",
                            "<table border=\"1\" class=\"dataframe\">\n",
                            "  <thead>\n",
                            "    <tr style=\"text-align: right;\">\n",
                            "      <th></th>\n",
                            "      <th>customerID</th>\n",
                            "      <th>gender</th>\n",
                            "      <th>SeniorCitizen</th>\n",
                            "      <th>Partner</th>\n",
                            "      <th>Dependents</th>\n",
                            "      <th>tenure</th>\n",
                            "      <th>PhoneService</th>\n",
                            "      <th>MultipleLines</th>\n",
                            "      <th>InternetService</th>\n",
                            "      <th>OnlineSecurity</th>\n",
                            "      <th>OnlineBackup</th>\n",
                            "      <th>DeviceProtection</th>\n",
                            "      <th>TechSupport</th>\n",
                            "      <th>StreamingTV</th>\n",
                            "      <th>StreamingMovies</th>\n",
                            "      <th>Contract</th>\n",
                            "      <th>PaperlessBilling</th>\n",
                            "      <th>PaymentMethod</th>\n",
                            "      <th>MonthlyCharges</th>\n",
                            "      <th>TotalCharges</th>\n",
                            "      <th>Churn</th>\n",
                            "    </tr>\n",
                            "  </thead>\n",
                            "  <tbody>\n",
                            "    <tr>\n",
                            "      <th>0</th>\n",
                            "      <td>7590-VHVEG</td>\n",
                            "      <td>Female</td>\n",
                            "      <td>0</td>\n",
                            "      <td>Yes</td>\n",
                            "      <td>No</td>\n",
                            "      <td>1</td>\n",
                            "      <td>No</td>\n",
                            "      <td>No phone service</td>\n",
                            "      <td>DSL</td>\n",
                            "      <td>No</td>\n",
                            "      <td>Yes</td>\n",
                            "      <td>No</td>\n",
                            "      <td>No</td>\n",
                            "      <td>No</td>\n",
                            "      <td>No</td>\n",
                            "      <td>Month-to-month</td>\n",
                            "      <td>Yes</td>\n",
                            "      <td>Electronic check</td>\n",
                            "      <td>29.85</td>\n",
                            "      <td>29.85</td>\n",
                            "      <td>No</td>\n",
                            "    </tr>\n",
                            "    <tr>\n",
                            "      <th>1</th>\n",
                            "      <td>5575-GNVDE</td>\n",
                            "      <td>Male</td>\n",
                            "      <td>0</td>\n",
                            "      <td>No</td>\n",
                            "      <td>No</td>\n",
                            "      <td>34</td>\n",
                            "      <td>Yes</td>\n",
                            "      <td>No</td>\n",
                            "      <td>DSL</td>\n",
                            "      <td>Yes</td>\n",
                            "      <td>No</td>\n",
                            "      <td>Yes</td>\n",
                            "      <td>No</td>\n",
                            "      <td>No</td>\n",
                            "      <td>No</td>\n",
                            "      <td>One year</td>\n",
                            "      <td>No</td>\n",
                            "      <td>Mailed check</td>\n",
                            "      <td>56.95</td>\n",
                            "      <td>1889.5</td>\n",
                            "      <td>No</td>\n",
                            "    </tr>\n",
                            "    <tr>\n",
                            "      <th>2</th>\n",
                            "      <td>3668-QPYBK</td>\n",
                            "      <td>Male</td>\n",
                            "      <td>0</td>\n",
                            "      <td>No</td>\n",
                            "      <td>No</td>\n",
                            "      <td>2</td>\n",
                            "      <td>Yes</td>\n",
                            "      <td>No</td>\n",
                            "      <td>DSL</td>\n",
                            "      <td>Yes</td>\n",
                            "      <td>Yes</td>\n",
                            "      <td>No</td>\n",
                            "      <td>No</td>\n",
                            "      <td>No</td>\n",
                            "      <td>No</td>\n",
                            "      <td>Month-to-month</td>\n",
                            "      <td>Yes</td>\n",
                            "      <td>Mailed check</td>\n",
                            "      <td>53.85</td>\n",
                            "      <td>108.15</td>\n",
                            "      <td>Yes</td>\n",
                            "    </tr>\n",
                            "    <tr>\n",
                            "      <th>3</th>\n",
                            "      <td>7795-CFOCW</td>\n",
                            "      <td>Male</td>\n",
                            "      <td>0</td>\n",
                            "      <td>No</td>\n",
                            "      <td>No</td>\n",
                            "      <td>45</td>\n",
                            "      <td>No</td>\n",
                            "      <td>No phone service</td>\n",
                            "      <td>DSL</td>\n",
                            "      <td>Yes</td>\n",
                            "      <td>No</td>\n",
                            "      <td>Yes</td>\n",
                            "      <td>Yes</td>\n",
                            "      <td>No</td>\n",
                            "      <td>No</td>\n",
                            "      <td>One year</td>\n",
                            "      <td>No</td>\n",
                            "      <td>Bank transfer (automatic)</td>\n",
                            "      <td>42.30</td>\n",
                            "      <td>1840.75</td>\n",
                            "      <td>No</td>\n",
                            "    </tr>\n",
                            "    <tr>\n",
                            "      <th>4</th>\n",
                            "      <td>9237-HQITU</td>\n",
                            "      <td>Female</td>\n",
                            "      <td>0</td>\n",
                            "      <td>No</td>\n",
                            "      <td>No</td>\n",
                            "      <td>2</td>\n",
                            "      <td>Yes</td>\n",
                            "      <td>No</td>\n",
                            "      <td>Fiber optic</td>\n",
                            "      <td>No</td>\n",
                            "      <td>No</td>\n",
                            "      <td>No</td>\n",
                            "      <td>No</td>\n",
                            "      <td>No</td>\n",
                            "      <td>No</td>\n",
                            "      <td>Month-to-month</td>\n",
                            "      <td>Yes</td>\n",
                            "      <td>Electronic check</td>\n",
                            "      <td>70.70</td>\n",
                            "      <td>151.65</td>\n",
                            "      <td>Yes</td>\n",
                            "    </tr>\n",
                            "  </tbody>\n",
                            "</table>\n",
                            "</div>"
                        ],
                        "text/plain": [
                            "   customerID  gender  SeniorCitizen Partner Dependents  tenure PhoneService  \\\n",
                            "0  7590-VHVEG  Female              0     Yes         No       1           No   \n",
                            "1  5575-GNVDE    Male              0      No         No      34          Yes   \n",
                            "2  3668-QPYBK    Male              0      No         No       2          Yes   \n",
                            "3  7795-CFOCW    Male              0      No         No      45           No   \n",
                            "4  9237-HQITU  Female              0      No         No       2          Yes   \n",
                            "\n",
                            "      MultipleLines InternetService OnlineSecurity OnlineBackup  \\\n",
                            "0  No phone service             DSL             No          Yes   \n",
                            "1                No             DSL            Yes           No   \n",
                            "2                No             DSL            Yes          Yes   \n",
                            "3  No phone service             DSL            Yes           No   \n",
                            "4                No     Fiber optic             No           No   \n",
                            "\n",
                            "  DeviceProtection TechSupport StreamingTV StreamingMovies        Contract  \\\n",
                            "0               No          No          No              No  Month-to-month   \n",
                            "1              Yes          No          No              No        One year   \n",
                            "2               No          No          No              No  Month-to-month   \n",
                            "3              Yes         Yes          No              No        One year   \n",
                            "4               No          No          No              No  Month-to-month   \n",
                            "\n",
                            "  PaperlessBilling              PaymentMethod  MonthlyCharges TotalCharges  \\\n",
                            "0              Yes           Electronic check           29.85        29.85   \n",
                            "1               No               Mailed check           56.95       1889.5   \n",
                            "2              Yes               Mailed check           53.85       108.15   \n",
                            "3               No  Bank transfer (automatic)           42.30      1840.75   \n",
                            "4              Yes           Electronic check           70.70       151.65   \n",
                            "\n",
                            "  Churn  \n",
                            "0    No  \n",
                            "1    No  \n",
                            "2   Yes  \n",
                            "3    No  \n",
                            "4   Yes  "
                        ]
                    },
                    "execution_count": 73,
                    "metadata": {},
                    "output_type": "execute_result"
                }
            ],
            "source": [
                "df = pd.read_csv(\"data/raw/dataset.xls\")\n",
                "\n",
                "print(f\"Dataset shape: {df.shape}\")\n",
                "print(f\"\\nColumn names: {list(df.columns)}\")\n",
                "df.head()"
            ]
        },
        {
            "cell_type": "markdown",
            "metadata": {},
            "source": [
                "## Data Quality Assessment"
            ]
        },
        {
            "cell_type": "code",
            "execution_count": 74,
            "metadata": {},
            "outputs": [
                {
                    "name": "stdout",
                    "output_type": "stream",
                    "text": [
                        "(7043, 21)\n",
                        "customerID           object\n",
                        "gender               object\n",
                        "SeniorCitizen         int64\n",
                        "Partner              object\n",
                        "Dependents           object\n",
                        "tenure                int64\n",
                        "PhoneService         object\n",
                        "MultipleLines        object\n",
                        "InternetService      object\n",
                        "OnlineSecurity       object\n",
                        "OnlineBackup         object\n",
                        "DeviceProtection     object\n",
                        "TechSupport          object\n",
                        "StreamingTV          object\n",
                        "StreamingMovies      object\n",
                        "Contract             object\n",
                        "PaperlessBilling     object\n",
                        "PaymentMethod        object\n",
                        "MonthlyCharges      float64\n",
                        "TotalCharges         object\n",
                        "Churn                object\n",
                        "dtype: object\n"
                    ]
                }
            ],
            "source": [
                "print(df.shape)\n",
                "print(df.dtypes)\n"
            ]
        },
        {
            "cell_type": "code",
            "execution_count": 75,
            "metadata": {},
            "outputs": [
                {
                    "name": "stdout",
                    "output_type": "stream",
                    "text": [
                        "customerID          0\n",
                        "gender              0\n",
                        "SeniorCitizen       0\n",
                        "Partner             0\n",
                        "Dependents          0\n",
                        "tenure              0\n",
                        "PhoneService        0\n",
                        "MultipleLines       0\n",
                        "InternetService     0\n",
                        "OnlineSecurity      0\n",
                        "OnlineBackup        0\n",
                        "DeviceProtection    0\n",
                        "TechSupport         0\n",
                        "StreamingTV         0\n",
                        "StreamingMovies     0\n",
                        "Contract            0\n",
                        "PaperlessBilling    0\n",
                        "PaymentMethod       0\n",
                        "MonthlyCharges      0\n",
                        "TotalCharges        0\n",
                        "Churn               0\n",
                        "dtype: int64\n"
                    ]
                }
            ],
            "source": [
                "\n",
                "# Missing values\n",
                "print(df.isnull().sum())\n"
            ]
        },
        {
            "cell_type": "code",
            "execution_count": 76,
            "metadata": {},
            "outputs": [
                {
                    "name": "stdout",
                    "output_type": "stream",
                    "text": [
                        "0\n"
                    ]
                }
            ],
            "source": [
                "# Duplicates\n",
                "print(df.duplicated().sum())\n"
            ]
        },
        {
            "cell_type": "code",
            "execution_count": 77,
            "metadata": {},
            "outputs": [
                {
                    "name": "stdout",
                    "output_type": "stream",
                    "text": [
                        "       SeniorCitizen       tenure  MonthlyCharges\n",
                        "count    7043.000000  7043.000000     7043.000000\n",
                        "mean        0.162147    32.371149       64.761692\n",
                        "std         0.368612    24.559481       30.090047\n",
                        "min         0.000000     0.000000       18.250000\n",
                        "25%         0.000000     9.000000       35.500000\n",
                        "50%         0.000000    29.000000       70.350000\n",
                        "75%         0.000000    55.000000       89.850000\n",
                        "max         1.000000    72.000000      118.750000\n"
                    ]
                }
            ],
            "source": [
                "# Summary stats for numeric columns\n",
                "print(df.describe())\n"
            ]
        },
        {
            "cell_type": "code",
            "execution_count": 78,
            "metadata": {},
            "outputs": [
                {
                    "name": "stdout",
                    "output_type": "stream",
                    "text": [
                        "customerID          7043\n",
                        "gender                 2\n",
                        "SeniorCitizen          2\n",
                        "Partner                2\n",
                        "Dependents             2\n",
                        "tenure                73\n",
                        "PhoneService           2\n",
                        "MultipleLines          3\n",
                        "InternetService        3\n",
                        "OnlineSecurity         3\n",
                        "OnlineBackup           3\n",
                        "DeviceProtection       3\n",
                        "TechSupport            3\n",
                        "StreamingTV            3\n",
                        "StreamingMovies        3\n",
                        "Contract               3\n",
                        "PaperlessBilling       2\n",
                        "PaymentMethod          4\n",
                        "MonthlyCharges      1585\n",
                        "TotalCharges        6531\n",
                        "Churn                  2\n",
                        "dtype: int64\n"
                    ]
                }
            ],
            "source": [
                "# Unique values per column\n",
                "print(df.nunique())\n"
            ]
        },
        {
            "cell_type": "code",
            "execution_count": 79,
            "metadata": {},
            "outputs": [
                {
                    "name": "stdout",
                    "output_type": "stream",
                    "text": [
                        "SeniorCitizen \t ,\t 0.1621468124378816 \t 0.3686116056100131\n",
                        "tenure \t ,\t 32.37114865824223 \t 24.55948102309446\n",
                        "MonthlyCharges \t ,\t 64.76169246059918 \t 30.090047097678493\n"
                    ]
                }
            ],
            "source": [
                "# Spot potential outliers\n",
                "for col in df.select_dtypes(include='number'):\n",
                "    print(col,'\\t ,\\t' ,df[col].mean(),'\\t', df[col].std())"
            ]
        },
        {
            "cell_type": "markdown",
            "metadata": {},
            "source": [
                "## Univariate Analysis"
            ]
        },
        {
            "cell_type": "code",
            "execution_count": 80,
            "metadata": {},
            "outputs": [],
            "source": [
                "# Individual feature analysis will go here"
            ]
        },
        {
            "cell_type": "markdown",
            "metadata": {},
            "source": [
                "## Bivariate Analysis"
            ]
        },
        {
            "cell_type": "code",
            "execution_count": 81,
            "metadata": {},
            "outputs": [],
            "source": [
                "# Pairwise feature relationships will go here"
            ]
        },
        {
            "cell_type": "markdown",
            "metadata": {},
            "source": [
                "## Multivariate Analysis"
            ]
        },
        {
            "cell_type": "code",
            "execution_count": 82,
            "metadata": {},
            "outputs": [],
            "source": [
                "# Complex feature interactions will go here"
            ]
        },
        {
            "cell_type": "markdown",
            "metadata": {},
            "source": [
                "## Feature Engineering Insights"
            ]
        },
        {
            "cell_type": "code",
            "execution_count": 83,
            "metadata": {},
            "outputs": [],
            "source": [
                "# Feature creation and transformation insights will go here"
            ]
        },
        {
            "cell_type": "markdown",
            "metadata": {},
            "source": [
                "## Statistical Testing"
            ]
        },
        {
            "cell_type": "code",
            "execution_count": 84,
            "metadata": {},
            "outputs": [],
            "source": [
                "# Statistical significance tests will go here"
            ]
        },
        {
            "cell_type": "markdown",
            "metadata": {},
            "source": [
                "## Summary and Recommendations"
            ]
        },
        {
            "cell_type": "markdown",
            "metadata": {},
            "source": [
                "### Key Findings\n",
                "- Finding 1\n",
                "- Finding 2\n",
                "- Finding 3\n",
                "\n",
                "### Recommendations for Model Development\n",
                "- Recommendation 1\n",
                "- Recommendation 2\n",
                "- Recommendation 3\n",
                "\n",
                "### Next Steps\n",
                "- Move to advanced model pipeline development\n",
                "- Consider ensemble methods based on EDA insights\n",
                "- Address any data quality issues identified"
            ]
        }
    ],
    "metadata": {
        "kernelspec": {
            "display_name": "Python 3.11 (.venv)",
            "language": "python",
            "name": "venv-python311"
        },
        "language_info": {
            "codemirror_mode": {
                "name": "ipython",
                "version": 3
            },
            "file_extension": ".py",
            "mimetype": "text/x-python",
            "name": "python",
            "nbconvert_exporter": "python",
            "pygments_lexer": "ipython3",
            "version": "3.11.9"
        }
    },
    "nbformat": 4,
    "nbformat_minor": 4
}
