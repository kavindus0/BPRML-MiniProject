{
    "cells": [
        {
            "cell_type": "markdown",
            "metadata": {},
            "source": [
                "# impoort dependancies"
            ]
        },
        {
            "cell_type": "code",
            "execution_count": null,
            "metadata": {},
            "outputs": [
                {
                    "ename": "",
                    "evalue": "",
                    "output_type": "error",
                    "traceback": [
                        "\u001b[1;31mRunning cells with '.venv (Python 3.11.9)' requires the ipykernel package.\n",
                        "\u001b[1;31mRun the following command to install 'ipykernel' into the Python environment. \n",
                        "\u001b[1;31mCommand: '/Users/kavindus/Projects/BPRML-MiniProject/.venv/bin/python -m pip install ipykernel -U --force-reinstall'"
                    ]
                }
            ],
            "source": [
                "\n",
                "import pandas as pd  # For data manipulation and analysis (e.g., reading CSV, creating DataFrames)\n",
                "import numpy as np   # For numerical operations, especially with arrays\n",
                "import warnings      # To manage and filter warning messages for a cleaner output\n",
                "import os            # For interacting with the operating system (e.g., file paths)\n",
                "import matplotlib.pyplot as plt # The standard library for creating static, animated, and interactive visualizations\n",
                "import seaborn as sns           # Built on top of matplotlib, provides a high-level interface for attractive statistical graphics\n",
                "import plotly.express as px     # For creating interactive plots and dashboards\n",
                "\n",
                "from sklearn.impute import SimpleImputer              # For handling missing values\n",
                "from sklearn.preprocessing import (\n",
                "    StandardScaler,       # For scaling numerical features to have zero mean and unit variance\n",
                "    MinMaxScaler,         # For scaling numerical features to a specific range (e.g., 0-1)\n",
                "    OneHotEncoder,        # For converting categorical variables into a one-hot encoded format\n",
                "    LabelEncoder,         # For encoding target labels with value between 0 and n_classes-1\n",
                "    OrdinalEncoder        # For converting categorical features into ordinal integers\n",
                ")\n",
                "from sklearn.compose import ColumnTransformer         # To apply different transformations to different columns\n",
                "from sklearn.pipeline import Pipeline                 # To chain multiple processing and modeling steps together\n",
                "from sklearn.linear_model import LogisticRegression   # For a simple, interpretable baseline model\n",
                "from sklearn.tree import DecisionTreeClassifier       # For a single decision tree baseline\n",
                "from sklearn.ensemble import RandomForestClassifier   # Bagging: Random Forest\n",
                "from xgboost import XGBClassifier                     # Boosting: XGBoost\n",
                "from catboost import CatBoostClassifier               # Advanced Boosting: CatBoost\n",
                "\n",
                "from sklearn.metrics import (\n",
                "    accuracy_score,        # Basic accuracy metric (use with caution on imbalanced data)\n",
                "    precision_score,       # Metric for campaign efficiency (TP / (TP + FP))\n",
                "    recall_score,          # Metric for revenue protection (TP / (TP + FN))\n",
                "    f1_score,              # Harmonic mean of precision and recall\n",
                "    confusion_matrix,      # To visualize model performance (TP, FP, TN, FN)\n",
                "    classification_report, # Text report showing the main classification metrics\n",
                "    roc_auc_score,         # Area Under the Receiver Operating Characteristic Curve\n",
                "    precision_recall_curve,# To compute precision-recall pairs for different probability thresholds\n",
                "    auc                    # To compute the Area Under the Curve from points (used with precision_recall_curve)\n",
                ")\n",
                "\n",
                "from sklearn.model_selection import (\n",
                "    train_test_split,      # To split data into training and testing sets\n",
                "    StratifiedKFold,       # Cross-validation that maintains class distribution\n",
                "    GridSearchCV,          # Exhaustive search over specified parameter values\n",
                "    RandomizedSearchCV     # Randomized search over specified parameter values\n",
                ")\n",
                "\n",
                "# =============================================================================\n",
                "# 7. Statistical Analysis\n",
                "# =============================================================================\n",
                "from scipy.stats import chi2_contingency, ttest_ind  # For statistical significance testing (Chi-square, t-tests)\n",
                "\n",
                "# =============================================================================\n",
                "# 8. (Bonus) Advanced Class Imbalance Handling\n",
                "# =============================================================================\n",
                "from imblearn.over_sampling import SMOTE            # Synthetic Minority Over-sampling Technique\n",
                "\n",
                "# =============================================================================\n",
                "# 9. Utilities for Pipeline Persistence\n",
                "# =============================================================================\n",
                "import joblib  # For saving and loading your trained models and pipelines\n",
                "\n",
                "# =============================================================================\n",
                "# Optional: Initial Notebook Configuration\n",
                "# =============================================================================\n",
                "# Set plotting style\n",
                "sns.set_style('whitegrid')\n",
                "\n",
                "# Filter out future warnings for cleaner output\n",
                "warnings.filterwarnings('ignore', category=FutureWarning)\n",
                "\n",
                "# Set pandas display options to show all columns\n",
                "pd.set_option('display.max_columns', None)\n",
                "\n",
                "print(\"All necessary libraries have been imported successfully.\")"
            ]
        }
    ],
    "metadata": {
        "kernelspec": {
            "display_name": ".venv",
            "language": "python",
            "name": "python3"
        },
        "language_info": {
            "codemirror_mode": {
                "name": "ipython",
                "version": 3
            },
            "file_extension": ".py",
            "mimetype": "text/x-python",
            "name": "python",
            "nbconvert_exporter": "python",
            "pygments_lexer": "ipython3",
            "version": "3.11.9"
        }
    },
    "nbformat": 4,
    "nbformat_minor": 4
}
